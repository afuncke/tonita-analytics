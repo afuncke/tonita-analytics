{
 "cells": [
  {
   "cell_type": "code",
   "execution_count": 2,
   "metadata": {
    "application/vnd.databricks.v1+cell": {
     "cellMetadata": {
      "byteLimit": 2048000,
      "rowLimit": 10000
     },
     "inputWidgets": {},
     "nuid": "e7e2471f-2d8f-42bc-b3ad-7fd2dcabc119",
     "showTitle": false,
     "tableResultSettingsMap": {},
     "title": ""
    }
   },
   "outputs": [
    {
     "name": "stdout",
     "output_type": "stream",
     "text": [
      "Requirement already satisfied: influxdb_client in c:\\users\\alfun4\\repos\\tonita_analytics\\.venv\\lib\\site-packages (1.49.0)\n",
      "Requirement already satisfied: reactivex>=4.0.4 in c:\\users\\alfun4\\repos\\tonita_analytics\\.venv\\lib\\site-packages (from influxdb_client) (4.0.4)\n",
      "Requirement already satisfied: certifi>=14.05.14 in c:\\users\\alfun4\\repos\\tonita_analytics\\.venv\\lib\\site-packages (from influxdb_client) (2025.7.14)\n",
      "Requirement already satisfied: python-dateutil>=2.5.3 in c:\\users\\alfun4\\repos\\tonita_analytics\\.venv\\lib\\site-packages (from influxdb_client) (2.9.0.post0)\n",
      "Requirement already satisfied: setuptools>=21.0.0 in c:\\users\\alfun4\\repos\\tonita_analytics\\.venv\\lib\\site-packages (from influxdb_client) (65.5.0)\n",
      "Requirement already satisfied: urllib3>=1.26.0 in c:\\users\\alfun4\\repos\\tonita_analytics\\.venv\\lib\\site-packages (from influxdb_client) (2.5.0)\n",
      "Requirement already satisfied: six>=1.5 in c:\\users\\alfun4\\repos\\tonita_analytics\\.venv\\lib\\site-packages (from python-dateutil>=2.5.3->influxdb_client) (1.17.0)\n",
      "Requirement already satisfied: typing-extensions<5.0.0,>=4.1.1 in c:\\users\\alfun4\\repos\\tonita_analytics\\.venv\\lib\\site-packages (from reactivex>=4.0.4->influxdb_client) (4.14.1)\n",
      "Note: you may need to restart the kernel to use updated packages.\n"
     ]
    },
    {
     "name": "stderr",
     "output_type": "stream",
     "text": [
      "UsageError: Line magic function `%restart_python` not found.\n"
     ]
    }
   ],
   "source": [
    "%pip install influxdb_client\n",
    "%restart_python"
   ]
  }
 ],
 "metadata": {
  "application/vnd.databricks.v1+notebook": {
   "computePreferences": null,
   "dashboards": [],
   "environmentMetadata": {
    "base_environment": "",
    "environment_version": "2"
   },
   "inputWidgetPreferences": null,
   "language": "python",
   "notebookMetadata": {
    "pythonIndentUnit": 4
   },
   "notebookName": "connect_to_influxdb",
   "widgets": {}
  },
  "kernelspec": {
   "display_name": ".venv",
   "language": "python",
   "name": "python3"
  },
  "language_info": {
   "codemirror_mode": {
    "name": "ipython",
    "version": 3
   },
   "file_extension": ".py",
   "mimetype": "text/x-python",
   "name": "python",
   "nbconvert_exporter": "python",
   "pygments_lexer": "ipython3",
   "version": "3.11.9"
  }
 },
 "nbformat": 4,
 "nbformat_minor": 0
}
